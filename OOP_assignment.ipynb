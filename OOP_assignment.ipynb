{
  "nbformat": 4,
  "nbformat_minor": 0,
  "metadata": {
    "colab": {
      "provenance": []
    },
    "kernelspec": {
      "name": "python3",
      "display_name": "Python 3"
    },
    "language_info": {
      "name": "python"
    }
  },
  "cells": [
    {
      "cell_type": "markdown",
      "source": [
        "# 1.  What is Object-Oriented Programming (OOP)?\n",
        "\n",
        "Ans->\n",
        "Object-oriented programming is a programming paradigm that is based on the concept of \"objects\", which can contain data and code that manipulates that data."
      ],
      "metadata": {
        "id": "ZXxxzjvj81p0"
      }
    },
    {
      "cell_type": "markdown",
      "source": [
        "# 2. What is a class in OOP?\n",
        "\n",
        "Ans->\n",
        "A class in OOP is a template or a blue print to creat objects."
      ],
      "metadata": {
        "id": "Ws3LqSBh81Hk"
      }
    },
    {
      "cell_type": "markdown",
      "source": [],
      "metadata": {
        "id": "GqtDaLOF81AY"
      }
    },
    {
      "cell_type": "markdown",
      "source": [
        "# 3. What is an object in OOP?\n",
        "\n",
        "Ans->\n",
        "a fundamental unit that represents a data entity with specific characteristics and behaviors"
      ],
      "metadata": {
        "id": "fEH3X9m780ye"
      }
    },
    {
      "cell_type": "markdown",
      "source": [
        "# 4. What is the difference between abstraction and encapsulation?\n",
        "\n",
        "Ans->\n",
        "\n",
        "* Abstraction:\n",
        "focuses on presenting only essential information to the user, hiding the complex implementation details\n",
        "\n",
        "* Encapsulation:\n",
        "It's about data hiding and protecting the integrity of the data by preventing unauthorized access or modification"
      ],
      "metadata": {
        "id": "B3hbpTbU80X5"
      }
    },
    {
      "cell_type": "markdown",
      "source": [
        "# 5. What are dunder methods in Python?\n",
        "\n",
        "Ans->\n",
        "Dunder methods, also known as magic methods, are special methods in Python that begin and end with double underscores\n",
        "\n",
        "eg:(__int__), (__str__)"
      ],
      "metadata": {
        "id": "dRhyqyHu80RS"
      }
    },
    {
      "cell_type": "markdown",
      "source": [
        "# 6.  Explain the concept of inheritance in OOPH.\n",
        "\n",
        "Ans->\n",
        "Inheritance is a fundamental concept in object-oriented programming (OOP) that allows a class to inherit attributes and methods from another classThis promotes code reuse, modularity, and a hierarchical class structure."
      ],
      "metadata": {
        "id": "62bpnJEg80Jp"
      }
    },
    {
      "cell_type": "markdown",
      "source": [
        "# 7.What is polymorphism in OOP?\n",
        "\n",
        "Ans->\n",
        "This promotes code reuse, modularity, and a hierarchical class structure."
      ],
      "metadata": {
        "id": "uzPIm9Zf80BV"
      }
    },
    {
      "cell_type": "markdown",
      "source": [
        "# 8. How is encapsulation achieved in Python?\n",
        "\n",
        "Ans->\n",
        "It is achieved by restricting access to attributes and methods, preventing direct modification from outside the class."
      ],
      "metadata": {
        "id": "4k9cQS9r8z5R"
      }
    },
    {
      "cell_type": "markdown",
      "source": [
        "# 9. What is a constructor in Python?\n",
        "\n",
        "Ans->\n",
        "A constructor in Python is a special method within a class that initializes the attributes of an object when it is created."
      ],
      "metadata": {
        "id": "98CVGHrH8zyG"
      }
    },
    {
      "cell_type": "markdown",
      "source": [
        "# 10. What are class and static methods in Python?\n",
        "\n",
        "Ans->\n",
        "\n",
        "* Class Methods:Class methods are bound to the class and not the instance of the class.\n",
        "\n",
        "* Static Methods:\n",
        "Static methods are not bound to either the class or the instance."
      ],
      "metadata": {
        "id": "oaW8Ngu48zrB"
      }
    },
    {
      "cell_type": "markdown",
      "source": [
        "# 11. What is method overloading in Python?\n",
        "\n",
        "Ans->\n",
        "Method overloading in Python refers to the ability to define multiple methods with the same name within a class, but with different parameters."
      ],
      "metadata": {
        "id": "J7AmKG_A8zj1"
      }
    },
    {
      "cell_type": "markdown",
      "source": [
        "# 12. What is method overriding in OOP?\n",
        "\n",
        "Ans->\n",
        "Method overriding allows a subclass to provide a specific implementation of a method that is already defined in its superclass."
      ],
      "metadata": {
        "id": "B-2uzhk58zcW"
      }
    },
    {
      "cell_type": "markdown",
      "source": [
        "# 13. What is method overriding in OOP?\n",
        "\n",
        "Ans->\n",
        "A property decorator provides a way to manage class attributes with more control."
      ],
      "metadata": {
        "id": "THQsgIta8zVd"
      }
    },
    {
      "cell_type": "markdown",
      "source": [
        "# 14. Why is polymorphism important in OOP?\n",
        "\n",
        "Ans->\n",
        "It enables objects of different classes to be treated as objects of a common type, promoting code reusability, flexibility, and maintainability."
      ],
      "metadata": {
        "id": "vFMWw15-8zNf"
      }
    },
    {
      "cell_type": "markdown",
      "source": [
        "# 15. What is an abstract class in Python?\n",
        "\n",
        "Ans->\n",
        "An abstract class in Python is a class that cannot be instantiated directly and is designed to be subclassed."
      ],
      "metadata": {
        "id": "1FO1S8H_8voR"
      }
    },
    {
      "cell_type": "markdown",
      "source": [
        "# 16. What are the advantages of OOP?\n",
        "\n",
        "Ans->\n",
        "OOP offers several advantages, primarily enhancing code organization, reusability, and maintainability."
      ],
      "metadata": {
        "id": "3Rpfq2e_8vlh"
      }
    },
    {
      "cell_type": "markdown",
      "source": [
        "# 17. What is the difference between a class variable and an instance variable?\n",
        "\n",
        "Ans->\n",
        "\n",
        "* Class Variables:Typically defined at the class level, outside of any methods or constructors.\n",
        "\n",
        "* Instance Variables:Typically defined within the class, often initialized within the constructor."
      ],
      "metadata": {
        "id": "8DCmUt8d8vjB"
      }
    },
    {
      "cell_type": "markdown",
      "source": [
        "# 18. What is multiple inheritance in Python?\n",
        "\n",
        "Ans->\n",
        "It  is a feature that allows a class to inherit attributes and methods from more than one parent class."
      ],
      "metadata": {
        "id": "1XimGufP8vf1"
      }
    },
    {
      "cell_type": "markdown",
      "source": [
        "# 19. Explain the purpose of ‘’__str__’ and ‘__repr__’ ‘ methods in Python.\n",
        "\n",
        "Ans->\n",
        "In Python, the __str__ and __repr__ methods are special methods used to define how objects are represented as strings.\n",
        "\n",
        "* __str__(self): This method is used to return a human-readable, informal string representation of an object.\n",
        "\n",
        "* __repr__(self): This method is used to return an unambiguous, formal string representation of an object.\n",
        "\n"
      ],
      "metadata": {
        "id": "6cRhUoIj8vc5"
      }
    },
    {
      "cell_type": "markdown",
      "source": [
        "# 20. What is the significance of the ‘super()’ function in Python?\n",
        "\n",
        "Ans->\n",
        "he super() function in Python is used to access methods and properties from a parent class within a child class."
      ],
      "metadata": {
        "id": "G4nWTXed8vaC"
      }
    },
    {
      "cell_type": "markdown",
      "source": [
        "# 21. What is the significance of the __del__ method in Python?\n",
        "\n",
        "Ans->\n",
        "The __del__ method in Python, also known as a destructor, defines actions to be performed when an object is garbage collected.\n"
      ],
      "metadata": {
        "id": "cTtr2qhh8vXN"
      }
    },
    {
      "cell_type": "markdown",
      "source": [
        "# 22. What is the difference between @staticmethod and @classmethod in Python?\n",
        "\n",
        "Ans->\n",
        "\n",
        "* @staticmethod:\n",
        "It doesn't take self or cls as arguments.It cannot modify class or instance state.\n",
        "\n",
        "* @classmethod:It can access and modify class-level attributes.\n",
        "It can be called on the class itself or on an instance of the class.\n"
      ],
      "metadata": {
        "id": "ZnagoWvW8vUd"
      }
    },
    {
      "cell_type": "markdown",
      "source": [
        "# 23.  How does polymorphism work in Python with inheritance?\n",
        "\n",
        "Ans->\n",
        "Polymorphism in Python, in the context of inheritance, enables objects of different classes to respond to the same method call in a way that is specific to their class."
      ],
      "metadata": {
        "id": "4rKihE8N8vR6"
      }
    },
    {
      "cell_type": "markdown",
      "source": [
        "# 24. What is method chaining in Python OOP?\n",
        "\n",
        "Ans->\n",
        " It allows multiple methods to be called sequentially on the same object in a single statement.\n"
      ],
      "metadata": {
        "id": "41w1XWvF8vO_"
      }
    },
    {
      "cell_type": "markdown",
      "source": [
        "# 25. What is the purpose of the __call__ method in Python?\n",
        "\n",
        "Ans->\n",
        "The __call__ method in Python enables instances of a class to be called like regular functions. When a class defines the __call__ method, its instances become callable objects. This means that you can apply the function call syntax () to an instance, and the code within the __call__ method will be executed."
      ],
      "metadata": {
        "id": "F8w8gsoJ8u_v"
      }
    },
    {
      "cell_type": "markdown",
      "source": [
        "# PRACTICAL QUESTIONS\n"
      ],
      "metadata": {
        "id": "wuKvC4Yk_rKd"
      }
    },
    {
      "cell_type": "markdown",
      "source": [
        "1. Create a parent class Animal with a method speak() that prints a generic message. Create a child class Dog\n",
        "that overrides the speak() method to print \"Bark!\"\n"
      ],
      "metadata": {
        "id": "_G9xzzZ3_wVY"
      }
    },
    {
      "cell_type": "code",
      "source": [
        "class Animal:\n",
        "    def speak(self):\n",
        "        print(\"Generic animal sound\")\n",
        "\n",
        "class Dog(Animal):\n",
        "    def speak(self):\n",
        "        print(\"Bark!\")\n",
        "\n",
        "dog = Dog()\n",
        "dog.speak()"
      ],
      "metadata": {
        "id": "3xuULw2y_v-a",
        "colab": {
          "base_uri": "https://localhost:8080/"
        },
        "outputId": "a3fb689f-caf2-4451-998f-44c3834ceab8"
      },
      "execution_count": null,
      "outputs": [
        {
          "output_type": "stream",
          "name": "stdout",
          "text": [
            "Bark!\n"
          ]
        }
      ]
    },
    {
      "cell_type": "markdown",
      "source": [
        "2. Write a program to create an abstract class Shape with a method area(). Derive classes Circle and Rectangle\n",
        "from it and implement the area() method in both."
      ],
      "metadata": {
        "id": "Y-w7DQ0NBjQK"
      }
    },
    {
      "cell_type": "code",
      "source": [
        "from abc import ABC, abstractmethod\n",
        "\n",
        "class Shape(ABC):\n",
        "    @abstractmethod\n",
        "    def area(self):\n",
        "        pass\n",
        "\n",
        "    @abstractmethod\n",
        "    def perimeter(self):\n",
        "        pass\n",
        "\n",
        "class Circle(Shape):\n",
        "    def __init__(self, radius):\n",
        "        self.radius = radius\n",
        "\n",
        "    def area(self):\n",
        "        return 3.14159 * self.radius ** 2\n",
        "\n",
        "    def perimeter(self):\n",
        "        return 2 * 3.14159 * self.radius\n",
        "\n",
        "\n",
        "circle = Circle(5)\n",
        "print(f\"Area: {circle.area()}\")\n",
        "print(f\"Perimeter: {circle.perimeter()}\")\n",
        "Area: 78.53975\n",
        "Perimeter: 31.4159"
      ],
      "metadata": {
        "id": "0fjUqrcZ8uBU",
        "colab": {
          "base_uri": "https://localhost:8080/"
        },
        "outputId": "c1c00d80-8e47-4e9f-e703-e95685eadad3"
      },
      "execution_count": null,
      "outputs": [
        {
          "output_type": "stream",
          "name": "stdout",
          "text": [
            "Area: 78.53975\n",
            "Perimeter: 31.4159\n"
          ]
        }
      ]
    },
    {
      "cell_type": "code",
      "source": [
        "class Shape(ABC):\n",
        "    @abstractmethod\n",
        "    def area(self):\n",
        "        pass\n",
        "\n",
        "    @abstractmethod\n",
        "    def perimeter(self):\n",
        "        pass\n",
        "\n",
        "class Rectangle(Shape):\n",
        "    def __init__(self, width, height):\n",
        "        self.width = width\n",
        "        self.height = height\n",
        "\n",
        "    def area(self):\n",
        "        return self.width * self.height\n",
        "\n",
        "    def perimeter(self):\n",
        "        return 2 * (self.width + self.height)\n",
        "rectangle = Rectangle(5, 10)"
      ],
      "metadata": {
        "id": "EYrc9mHcNri1"
      },
      "execution_count": null,
      "outputs": []
    },
    {
      "cell_type": "markdown",
      "source": [
        "3. Implement a multi-level inheritance scenario where a class Vehicle has an attribute type. Derive a class Car\n",
        "and further derive a class ElectricCar that adds a battery attribute."
      ],
      "metadata": {
        "id": "CxnpW0wdBkB-"
      }
    },
    {
      "cell_type": "markdown",
      "source": [],
      "metadata": {
        "id": "b-h3C1fQNa_R"
      }
    },
    {
      "cell_type": "code",
      "execution_count": null,
      "metadata": {
        "id": "BHAyfmpj8rtv",
        "colab": {
          "base_uri": "https://localhost:8080/"
        },
        "outputId": "2b43ee29-321c-4723-b567-182fe0eb3eb8"
      },
      "outputs": [
        {
          "output_type": "stream",
          "name": "stdout",
          "text": [
            "The Name is : {self.name}\n",
            "The Age is : {self.age}\n",
            "The role is : {self.role}\n",
            "The Roll is : {self.roll}\n"
          ]
        }
      ],
      "source": [
        "class Base:\n",
        "\n",
        "    def __init__(self, name, roll, role):\n",
        "        self.name = name\n",
        "        self.roll = roll\n",
        "        self.role = role\n",
        "\n",
        "\n",
        "class Intermediate(Base):\n",
        "\n",
        "    def __init__(self, age, name, roll, role):\n",
        "        super().__init__(name, roll, role)\n",
        "        self.age = age\n",
        "\n",
        "\n",
        "class Derived(Intermediate):\n",
        "\n",
        "    def __init__(self, age, name, roll, role):\n",
        "        super().__init__(age, name, roll, role)\n",
        "\n",
        "    def Print_Data(self):\n",
        "        print(\"The Name is : {self.name}\")\n",
        "        print(\"The Age is : {self.age}\")\n",
        "        print(\"The role is : {self.role}\")\n",
        "        print(\"The Roll is : {self.roll}\")\n",
        "\n",
        "\n",
        "obj = Derived(21, \"Rida Farooqui\", 25,\"Learning Data science\")\n",
        "\n",
        "\n",
        "obj.Print_Data()"
      ]
    },
    {
      "cell_type": "markdown",
      "source": [
        "4. Demonstrate polymorphism by creating a base class Bird with a method fly(). Create two derived classes\n",
        "Sparrow and Penguin that override the fly() method."
      ],
      "metadata": {
        "id": "5t9oGWF7BkjY"
      }
    },
    {
      "cell_type": "code",
      "source": [
        "class Bird:\n",
        "  def __init__(self, name):\n",
        "    self.name = name\n",
        "\n",
        "  def fly(self):\n",
        "    print(f\"{self.name} is flying.\")\n",
        "\n",
        "class Sparrow(Bird):\n",
        "  def __init__(self, name):\n",
        "    super().__init__(name)\n",
        "\n",
        "  def fly(self):\n",
        "    print(f\"{self.name} is soaring through the air.\")\n",
        "\n",
        "class Penguin(Bird):\n",
        "  def __init__(self, name):\n",
        "    super().__init__(name)\n",
        "\n",
        "  def fly(self):\n",
        "    print(f\"{self.name} is unable to fly, but can swim.\")\n",
        "\n",
        "\n",
        "sparrow = Sparrow(\"Sparrow\")\n",
        "penguin = Penguin(\"Penguin\")\n",
        "\n",
        "\n",
        "sparrow.fly()\n",
        "penguin.fly()"
      ],
      "metadata": {
        "id": "wUeWw1LXBk4E",
        "colab": {
          "base_uri": "https://localhost:8080/"
        },
        "outputId": "5e6690e1-72b4-470c-b4bf-a2c8c183f5d8"
      },
      "execution_count": null,
      "outputs": [
        {
          "output_type": "stream",
          "name": "stdout",
          "text": [
            "Sparrow is soaring through the air.\n",
            "Penguin is unable to fly, but can swim.\n"
          ]
        }
      ]
    },
    {
      "cell_type": "markdown",
      "source": [
        "5. Write a program to demonstrate encapsulation by creating a class BankAccount with private attributes\n",
        "balance and methods to deposit, withdraw, and check balance."
      ],
      "metadata": {
        "id": "fiDg6xiGBnMG"
      }
    },
    {
      "cell_type": "code",
      "source": [
        "class Bank_Account:\n",
        "\tdef __init__(self):\n",
        "\t\tself.balance=0\n",
        "\t\tprint(\"Hello!!! Welcome to the Deposit & Withdrawal Machine\")\n",
        "\n",
        "\tdef deposit(self):\n",
        "\t\tamount=float(input(\"Enter amount to be Deposited: \"))\n",
        "\t\tself.balance += amount\n",
        "\t\tprint(\"\\n Amount Deposited:\",amount)\n",
        "\n",
        "\tdef withdraw(self):\n",
        "\t\tamount = float(input(\"Enter amount to be Withdrawn: \"))\n",
        "\t\tif self.balance>=amount:\n",
        "\t\t\tself.balance-=amount\n",
        "\t\t\tprint(\"\\n You Withdrew:\", amount)\n",
        "\t\telse:\n",
        "\t\t\tprint(\"\\n Insufficient balance \")\n",
        "\n",
        "\tdef display(self):\n",
        "\t\tprint(\"\\n Net Available Balance=\",self.balance)\n",
        "\n",
        "s = Bank_Account()\n",
        "\n",
        "s.deposit()\n",
        "s.withdraw()\n",
        "s.display()\n"
      ],
      "metadata": {
        "id": "MVmC2QUyBnge",
        "colab": {
          "base_uri": "https://localhost:8080/"
        },
        "outputId": "522f76ae-6d91-4f8f-a8b0-eeda307a85f7"
      },
      "execution_count": null,
      "outputs": [
        {
          "metadata": {
            "tags": null
          },
          "name": "stdout",
          "output_type": "stream",
          "text": [
            "Hello!!! Welcome to the Deposit & Withdrawal Machine\n"
          ]
        }
      ]
    },
    {
      "cell_type": "markdown",
      "source": [
        "6. Demonstrate runtime polymorphism using a method play() in a base class Instrument. Derive classes Guitar\n",
        "and Piano that implement their own version of play()."
      ],
      "metadata": {
        "id": "UfWsVhgvBnu-"
      }
    },
    {
      "cell_type": "code",
      "source": [
        "class Instrument:\n",
        "    def play(self):\n",
        "        print(\"Playing an instrument\")\n",
        "\n",
        "\n",
        "\n",
        "class Guitar(Instrument):\n",
        "    def play(self):\n",
        "        print(\"Playing a guitar\")\n",
        "\n",
        "\n",
        "class Piano(Instrument):\n",
        "    def play(self):\n",
        "        print(\"Playing a piano\")\n",
        "\n",
        "\n",
        "\n",
        "instrument1 = Guitar()\n",
        "instrument2 = Piano()\n",
        "\n",
        "\n",
        "instrument1.play()\n",
        "instrument2.play()"
      ],
      "metadata": {
        "id": "BPS4rEgVBn82"
      },
      "execution_count": null,
      "outputs": []
    },
    {
      "cell_type": "markdown",
      "source": [
        "7. Create a class MathOperations with a class method add_numbers() to add two numbers and a static\n",
        "method subtract_numbers() to subtract two numbers."
      ],
      "metadata": {
        "id": "i--jGyUHBoLA"
      }
    },
    {
      "cell_type": "code",
      "source": [
        "class MathOperations:\n",
        "    @classmethod\n",
        "    def add_numbers(cls, x, y):\n",
        "        return x + y\n",
        "\n",
        "    @staticmethod\n",
        "    def subtract_numbers(x, y):\n",
        "        return x - y\n",
        "\n",
        "\n",
        "result_add = MathOperations.add_numbers(5, 3)\n",
        "print(f\"The sum is: {result_add}\")\n",
        "\n",
        "result_subtract = MathOperations.subtract_numbers(10, 4)\n",
        "print(f\"The difference is: {result_subtract}\")"
      ],
      "metadata": {
        "id": "icBJBB1gBoXo"
      },
      "execution_count": null,
      "outputs": []
    },
    {
      "cell_type": "markdown",
      "source": [
        "8. Implement a class Person with a class method to count the total number of persons created"
      ],
      "metadata": {
        "id": "o3MOmilNBoyc"
      }
    },
    {
      "cell_type": "code",
      "source": [
        "class Person:\n",
        "    count = 0\n",
        "    def __init__(self, name):\n",
        "        self.name = name\n",
        "        Person.count += 1\n",
        "\n",
        "    @classmethod\n",
        "    def get_total_persons(cls):\n",
        "        return cls.count\n",
        "\n",
        "\n",
        "person1 = Person(\"Alice\")\n",
        "person2 = Person(\"Bob\")\n",
        "person3 = Person(\"Charlie\")\n",
        "\n",
        "print(f\"Total number of persons: {Person.get_total_persons()}\")"
      ],
      "metadata": {
        "id": "ERFDp1pdBpEY"
      },
      "execution_count": null,
      "outputs": []
    },
    {
      "cell_type": "markdown",
      "source": [
        "9. Write a class Fraction with attributes numerator and denominator. Override the str method to display the\n",
        "fraction as \"numerator/denominator\"."
      ],
      "metadata": {
        "id": "B7sCkNqmBpXc"
      }
    },
    {
      "cell_type": "code",
      "source": [
        "class Fraction:\n",
        "    def __init__(self, numerator, denominator):\n",
        "        self.numerator = numerator\n",
        "        self.denominator = denominator\n",
        "\n",
        "    def __str__(self):\n",
        "        return f\"{self.numerator}/{self.denominator}\"\n",
        "\n",
        "\n",
        "fraction = Fraction(3, 4)\n",
        "print(fraction)"
      ],
      "metadata": {
        "id": "gzwQkQWWBpmZ"
      },
      "execution_count": null,
      "outputs": []
    },
    {
      "cell_type": "markdown",
      "source": [
        "10. Demonstrate operator overloading by creating a class Vector and overriding the add method to add two\n",
        "vectors"
      ],
      "metadata": {
        "id": "NW1WI7eIBpzw"
      }
    },
    {
      "cell_type": "code",
      "source": [
        "class Vector:\n",
        "    def __init__(self, x, y):\n",
        "        self.x = x\n",
        "        self.y = y\n",
        "\n",
        "    def __add__(self, other):\n",
        "        if isinstance(other, Vector):\n",
        "            return Vector(self.x + other.x, self.y + other.y)\n",
        "        else:\n",
        "            raise TypeError(\"Unsupported operand type for +: 'Vector' and '{}'\".format(type(other).__name__))\n",
        "\n",
        "    def __str__(self):\n",
        "        return \"({}, {})\".format(self.x, self.y)\n",
        "\n",
        "\n",
        "v1 = Vector(2, 4)\n",
        "v2 = Vector(1, 3)\n",
        "v3 = v1 + v2\n",
        "print(v3)\n",
        "\n",
        "v4 = Vector(5, -2)\n",
        "v5 = v4 + v1\n",
        "print(v5)\n",
        "\n",
        "try:\n",
        "    v6 = v1 + 5\n",
        "except TypeError as e:\n",
        "    print(e)"
      ],
      "metadata": {
        "id": "ya2DavVIBqE3"
      },
      "execution_count": null,
      "outputs": []
    },
    {
      "cell_type": "markdown",
      "source": [
        "11. Create a class Person with attributes name and age. Add a method greet() that prints \"Hello, my name is\n",
        "{name} and I am {age} years old.\""
      ],
      "metadata": {
        "id": "K7Bl8UNDBqV-"
      }
    },
    {
      "cell_type": "code",
      "source": [
        "class Person:\n",
        "    def __init__(self, name, age):\n",
        "        self.name = name\n",
        "        self.age = age\n",
        "\n",
        "    def greet(self):\n",
        "        print(f\"Hello, my name is {self.name} and I am {self.age} years old.\")"
      ],
      "metadata": {
        "id": "OLv42NEOBqmy"
      },
      "execution_count": null,
      "outputs": []
    },
    {
      "cell_type": "markdown",
      "source": [
        "12. Implement a class Student with attributes name and grades. Create a method average_grade() to compute\n",
        "the average of the grades"
      ],
      "metadata": {
        "id": "IM59NT9dBrFn"
      }
    },
    {
      "cell_type": "code",
      "source": [
        "print(\"Enter Marks Obtained in 5 Subjects: \")\n",
        "total1 = 44\n",
        "total2 = 67\n",
        "total3 = 76\n",
        "total4 = 99\n",
        "total5 = 58\n",
        "\n",
        "tot = total1 + total2 + total3 + total4 + total4\n",
        "avg = tot / 5\n",
        "\n",
        "if avg >= 91 and avg <= 100:\n",
        "\tprint(\"Your Grade is A1\")\n",
        "elif avg >= 81 and avg < 91:\n",
        "\tprint(\"Your Grade is A2\")\n",
        "elif avg >= 71 and avg < 81:\n",
        "\tprint(\"Your Grade is B1\")\n",
        "elif avg >= 61 and avg < 71:\n",
        "\tprint(\"Your Grade is B2\")\n",
        "elif avg >= 51 and avg < 61:\n",
        "\tprint(\"Your Grade is C1\")\n",
        "elif avg >= 41 and avg < 51:\n",
        "\tprint(\"Your Grade is C2\")\n",
        "elif avg >= 33 and avg < 41:\n",
        "\tprint(\"Your Grade is D\")\n",
        "elif avg >= 21 and avg < 33:\n",
        "\tprint(\"Your Grade is E1\")\n",
        "elif avg >= 0 and avg < 21:\n",
        "\tprint(\"Your Grade is E2\")\n",
        "else:\n",
        "\tprint(\"Invalid Input!\")\n"
      ],
      "metadata": {
        "id": "TPcJi3_QBrXr"
      },
      "execution_count": null,
      "outputs": []
    },
    {
      "cell_type": "markdown",
      "source": [
        "13. Create a class Rectangle with methods set_dimensions() to set the dimensions and area() to calculate the\n",
        "area."
      ],
      "metadata": {
        "id": "h_7PRBE_BrmP"
      }
    },
    {
      "cell_type": "code",
      "source": [
        "class Rectangle():\n",
        "    def __init__(self, l, w):\n",
        "        self.length = l\n",
        "        self.width  = w\n",
        "\n",
        "    def rectangle_area(self):\n",
        "        return self.length*self.width\n",
        "\n",
        "newRectangle = Rectangle(12, 10)\n",
        "print(newRectangle.rectangle_area())\n"
      ],
      "metadata": {
        "id": "bmzUhU9FBr4L"
      },
      "execution_count": null,
      "outputs": []
    },
    {
      "cell_type": "markdown",
      "source": [
        "14. Create a class Employee with a method calculate_salary() that computes the salary based on hours worked\n",
        "and hourly rate. Create a derived class Manager that adds a bonus to the salary."
      ],
      "metadata": {
        "id": "5nPtfzGMBsIl"
      }
    },
    {
      "cell_type": "code",
      "source": [
        "class Employee:\n",
        "    def __init__(self, name, emp_id, salary, department):\n",
        "        self.name = name\n",
        "        self.id = emp_id\n",
        "        self.salary = salary\n",
        "        self.department = department\n",
        "\n",
        "    def calculate_salary(self, salary, hours_worked):\n",
        "        overtime = 0\n",
        "        if hours_worked > 50:\n",
        "            overtime = hours_worked - 50\n",
        "        self.salary = self.salary + (overtime * (self.salary / 50))\n",
        "\n",
        "    def assign_department(self, emp_department):\n",
        "        self.department = emp_department\n",
        "\n",
        "    def print_employee_details(self):\n",
        "        print(\"\\nName: \", self.name)\n",
        "        print(\"ID: \", self.id)\n",
        "        print(\"Salary: \", self.salary)\n",
        "        print(\"Department: \", self.department)\n",
        "        print(\"----------------------\")\n",
        "\n",
        "\n",
        "employee1 = Employee(\"ADAMS\", \"E7876\", 50000, \"ACCOUNTING\")\n",
        "employee2 = Employee(\"JONES\", \"E7499\", 45000, \"RESEARCH\")\n",
        "employee3 = Employee(\"MARTIN\", \"E7900\", 50000, \"SALES\")\n",
        "employee4 = Employee(\"SMITH\", \"E7698\", 55000, \"OPERATIONS\")\n",
        "\n",
        "print(\"Original Employee Details:\")\n",
        "employee1.print_employee_details()\n",
        "employee2.print_employee_details()\n",
        "employee3.print_employee_details()\n",
        "employee4.print_employee_details()\n",
        "\n",
        "\n",
        "employee1.assign_department(\"OPERATIONS\")\n",
        "employee4.assign_department(\"SALES\")\n",
        "\n",
        "\n",
        "employee2.calculate_salary(45000, 52)\n",
        "employee4.calculate_salary(45000, 60)\n",
        "\n",
        "print(\"Updated Employee Details:\")\n",
        "employee1.print_employee_details()\n",
        "employee2.print_employee_details()\n",
        "employee3.print_employee_details()\n",
        "employee4.print_employee_details()\n"
      ],
      "metadata": {
        "id": "LPmcxoL4BsYR"
      },
      "execution_count": null,
      "outputs": []
    },
    {
      "cell_type": "markdown",
      "source": [
        "15. Create a class Product with attributes name, price, and quantity. Implement a method total_price() that\n",
        "calculates the total price of the product."
      ],
      "metadata": {
        "id": "A7SrP7aVBss9"
      }
    },
    {
      "cell_type": "code",
      "source": [
        "class ShoppingCart:\n",
        "    def __init__(self):\n",
        "        self.items = []\n",
        "\n",
        "    def add_item(self, item_name, qty):\n",
        "        item = (item_name, qty)\n",
        "        self.items.append(item)\n",
        "\n",
        "    def remove_item(self, item_name):\n",
        "        for item in self.items:\n",
        "            if item[0] == item_name:\n",
        "                self.items.remove(item)\n",
        "                break\n",
        "\n",
        "    def calculate_total(self):\n",
        "        total = 0\n",
        "        for item in self.items:\n",
        "            total += item[1]\n",
        "        return total\n",
        "\n",
        "cart = ShoppingCart()\n",
        "\n",
        "cart.add_item(\"Papaya\", 100)\n",
        "cart.add_item(\"Guava\", 200)\n",
        "cart.add_item(\"Orange\", 150)\n",
        "\n",
        "print(\"Current Items in Cart:\")\n",
        "for item in cart.items:\n",
        "    print(item[0], \"-\", item[1])\n",
        "\n",
        "total_qty = cart.calculate_total()\n",
        "print(\"Total Quantity:\", total_qty)\n",
        "\n",
        "\n",
        "cart.remove_item(\"Orange\")\n",
        "print(\"\\nUpdated Items in Cart after removing Orange:\")\n",
        "for item in cart.items:\n",
        "    print(item[0], \"-\", item[1])\n",
        "\n",
        "total_qty = cart.calculate_total()\n",
        "print(\"Total Quantity:\", total_qty)"
      ],
      "metadata": {
        "id": "j7JAAM4ZBs_N"
      },
      "execution_count": null,
      "outputs": []
    },
    {
      "cell_type": "markdown",
      "source": [
        "16. Create a class Animal with an abstract method sound(). Create two derived classes Cow and Sheep that\n",
        "implement the sound() method."
      ],
      "metadata": {
        "id": "M92of29PBte9"
      }
    },
    {
      "cell_type": "code",
      "source": [
        "class Animal:\n",
        "    def __init__(self, name):\n",
        "        self.name = name\n",
        "\n",
        "    def speak(self):\n",
        "        pass\n",
        "\n",
        "class Cow(Animal):\n",
        "    def speak(self):\n",
        "        return \" Cow says Moo!\"\n",
        "\n",
        "class Sheep(Animal):\n",
        "    def speak(self):\n",
        "        return \" Sheep says Mehehe!\"\n",
        "\n",
        "\n",
        "dog = Dog(&quot;Buddy&quot;)\n",
        "cat = Cat(&quot;Whiskers&quot;)\n",
        "print(dog.speak())\n",
        "print(cat.speak())"
      ],
      "metadata": {
        "id": "vtNCvfGyBtu5"
      },
      "execution_count": null,
      "outputs": []
    },
    {
      "cell_type": "markdown",
      "source": [
        "17. Create a class Book with attributes title, author, and year_published. Add a method get_book_info() that\n",
        "returns a formatted string with the book's details."
      ],
      "metadata": {
        "id": "Cnt7Do55BuEH"
      }
    },
    {
      "cell_type": "code",
      "source": [
        "class Book:\n",
        "    def __init__(self, author, title, book_id):\n",
        "        self.author = author\n",
        "        self.title = title\n",
        "        self.book_id = book_id\n",
        "\n",
        "    def __str__(self):\n",
        "        return 'Book(author, title, book_id)'\n",
        "\n",
        "    def __repr__(self):\n",
        "\n",
        "        return 'Book(author, title, book_id)'\n",
        "\n",
        "    def __eq__(self, other):\n",
        "        if isinstance(other, Book):\n",
        "            return self.author == other.author and self.title == other.title and self.book_id == other.book_id\n",
        "        return False\n",
        "\n",
        "        for title in Book:\n",
        "            for title in Book:\n",
        "                if title == title:\n",
        "                    if author == author:\n",
        "                        if book_id == book_id:\n",
        "                            return True"
      ],
      "metadata": {
        "id": "KQhLuujOBuVX"
      },
      "execution_count": null,
      "outputs": []
    },
    {
      "cell_type": "markdown",
      "source": [
        "18. Create a class House with attributes address and price. Create a derived class Mansion that adds an\n",
        "attribute number_of_rooms."
      ],
      "metadata": {
        "id": "SJuRKETDBukn"
      }
    },
    {
      "cell_type": "code",
      "source": [
        "class House:\n",
        "    def __init__(self, address, price):\n",
        "        self.address = address\n",
        "        self.price = price\n",
        "\n",
        "class Mansion(House):\n",
        "    def __init__(self, address, price, number_of_rooms):\n",
        "        super().__init__(address, price)\n",
        "        self.number_of_rooms = number_of_rooms"
      ],
      "metadata": {
        "id": "JoafhQTtBu0f"
      },
      "execution_count": null,
      "outputs": []
    }
  ]
}